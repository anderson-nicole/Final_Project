{
 "cells": [
  {
   "cell_type": "markdown",
   "metadata": {},
   "source": [
    "## Set-up"
   ]
  },
  {
   "cell_type": "code",
   "execution_count": 184,
   "metadata": {},
   "outputs": [],
   "source": [
    "import pandas as pd\n",
    "import numpy as np"
   ]
  },
  {
   "cell_type": "code",
   "execution_count": 185,
   "metadata": {},
   "outputs": [
    {
     "name": "stderr",
     "output_type": "stream",
     "text": [
      "C:\\Users\\nicol\\AppData\\Local\\Temp\\ipykernel_8788\\3761925524.py:1: DtypeWarning: Columns (12,14,17,19) have mixed types. Specify dtype option on import or set low_memory=False.\n",
      "  df = pd.read_csv(\"hospital_reviews.csv\")\n"
     ]
    }
   ],
   "source": [
    "df = pd.read_csv(\"hospital_reviews.csv\")       \n",
    "df = df.drop(columns = [\"Address\", \"ZIP Code\", \"City/Town\", \"Telephone Number\", \"Start Date\", \"End Date\"])   \n",
    "df = df.drop(columns=[col for col in df.columns if \"Footnote\" in col])                                                                                                                                                                                                                                                                                                                       "
   ]
  },
  {
   "cell_type": "code",
   "execution_count": 187,
   "metadata": {},
   "outputs": [],
   "source": [
    "df = df.drop(columns = [\"HCAHPS Question\",\"HCAHPS Answer Description\"]) "
   ]
  },
  {
   "cell_type": "code",
   "execution_count": 188,
   "metadata": {},
   "outputs": [
    {
     "data": {
      "text/plain": [
       "Index(['Facility ID', 'Facility Name', 'State', 'County/Parish',\n",
       "       'HCAHPS Measure ID', 'Patient Survey Star Rating',\n",
       "       'HCAHPS Answer Percent', 'HCAHPS Linear Mean Value',\n",
       "       'Number of Completed Surveys', 'Survey Response Rate Percent'],\n",
       "      dtype='object')"
      ]
     },
     "execution_count": 188,
     "metadata": {},
     "output_type": "execute_result"
    }
   ],
   "source": [
    "df = df.replace(\"Not Applicable\", np.nan).replace(\"Not Available\", np.nan)\n",
    "df.columns"
   ]
  },
  {
   "cell_type": "code",
   "execution_count": 189,
   "metadata": {},
   "outputs": [],
   "source": [
    "df[\"Missing Flag\"] = df[['Patient Survey Star Rating', 'HCAHPS Answer Percent', 'HCAHPS Linear Mean Value',\n",
    "                        'Number of Completed Surveys', 'Survey Response Rate Percent']].isnull().all(axis=1).astype(int)"
   ]
  },
  {
   "cell_type": "code",
   "execution_count": 191,
   "metadata": {},
   "outputs": [],
   "source": [
    "df.to_csv(\"hospital_reviews_cleaned.csv\", index = False)"
   ]
  }
 ],
 "metadata": {
  "kernelspec": {
   "display_name": "Python 3",
   "language": "python",
   "name": "python3"
  },
  "language_info": {
   "codemirror_mode": {
    "name": "ipython",
    "version": 3
   },
   "file_extension": ".py",
   "mimetype": "text/x-python",
   "name": "python",
   "nbconvert_exporter": "python",
   "pygments_lexer": "ipython3",
   "version": "3.12.2"
  }
 },
 "nbformat": 4,
 "nbformat_minor": 2
}
